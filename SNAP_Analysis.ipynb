{
 "cells": [
  {
   "cell_type": "code",
   "execution_count": 1,
   "metadata": {},
   "outputs": [],
   "source": [
    "import pandas as pd"
   ]
  },
  {
   "cell_type": "code",
   "execution_count": 2,
   "metadata": {},
   "outputs": [],
   "source": [
    "#read in queens library data from open data\n",
    "url = 'https://data.cityofnewyork.us/resource/b67a-vkqb.csv'\n",
    "qns = pd.read_csv(url)"
   ]
  },
  {
   "cell_type": "code",
   "execution_count": 3,
   "metadata": {},
   "outputs": [],
   "source": [
    "#read in brooklyn library locations from bk library site\n",
    "url = 'https://www.bklynlibrary.org/locations/json'\n",
    "bk = pd.read_json(url)"
   ]
  },
  {
   "cell_type": "code",
   "execution_count": 4,
   "metadata": {},
   "outputs": [],
   "source": [
    "#read in nypl library locations"
   ]
  },
  {
   "cell_type": "code",
   "execution_count": 6,
   "metadata": {},
   "outputs": [],
   "source": [
    "#read in snap centers\n",
    "snap_ca = pd.read_csv('SNAP_CA_Centers.csv')"
   ]
  },
  {
   "cell_type": "code",
   "execution_count": 9,
   "metadata": {},
   "outputs": [
    {
     "data": {
      "text/html": [
       "<div>\n",
       "<table border=\"1\" class=\"dataframe\">\n",
       "  <thead>\n",
       "    <tr style=\"text-align: right;\">\n",
       "      <th></th>\n",
       "      <th>locations</th>\n",
       "    </tr>\n",
       "  </thead>\n",
       "  <tbody>\n",
       "    <tr>\n",
       "      <th>0</th>\n",
       "      <td>{'data': {'Saturday': '\n",
       "10:00am - 5:00pm', 'Fr...</td>\n",
       "    </tr>\n",
       "    <tr>\n",
       "      <th>1</th>\n",
       "      <td>{'data': {'Saturday': '\n",
       "10:00am - 5:00pm', 'Fr...</td>\n",
       "    </tr>\n",
       "    <tr>\n",
       "      <th>2</th>\n",
       "      <td>{'data': {'Saturday': '\n",
       "10:00am - 5:00pm', 'Fr...</td>\n",
       "    </tr>\n",
       "    <tr>\n",
       "      <th>3</th>\n",
       "      <td>{'data': {'Saturday': '', 'Friday': '\n",
       "10:00am ...</td>\n",
       "    </tr>\n",
       "    <tr>\n",
       "      <th>4</th>\n",
       "      <td>{'data': {'Saturday': '\n",
       "10:00am - 5:00pm', 'Fr...</td>\n",
       "    </tr>\n",
       "  </tbody>\n",
       "</table>\n",
       "</div>"
      ],
      "text/plain": [
       "                                           locations\n",
       "0  {'data': {'Saturday': '\n",
       "10:00am - 5:00pm', 'Fr...\n",
       "1  {'data': {'Saturday': '\n",
       "10:00am - 5:00pm', 'Fr...\n",
       "2  {'data': {'Saturday': '\n",
       "10:00am - 5:00pm', 'Fr...\n",
       "3  {'data': {'Saturday': '', 'Friday': '\n",
       "10:00am ...\n",
       "4  {'data': {'Saturday': '\n",
       "10:00am - 5:00pm', 'Fr..."
      ]
     },
     "execution_count": 9,
     "metadata": {},
     "output_type": "execute_result"
    }
   ],
   "source": [
    "bk.head()"
   ]
  },
  {
   "cell_type": "code",
   "execution_count": null,
   "metadata": {},
   "outputs": [],
   "source": []
  }
 ],
 "metadata": {
  "kernelspec": {
   "display_name": "PUI2016_Python3",
   "language": "python",
   "name": "pui2016_python3"
  },
  "language_info": {
   "codemirror_mode": {
    "name": "ipython",
    "version": 3
   },
   "file_extension": ".py",
   "mimetype": "text/x-python",
   "name": "python",
   "nbconvert_exporter": "python",
   "pygments_lexer": "ipython3",
   "version": "3.5.4"
  }
 },
 "nbformat": 4,
 "nbformat_minor": 2
}
